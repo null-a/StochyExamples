{
 "metadata": {
  "language": "Julia",
  "name": "",
  "signature": "sha256:0873f733bf1a2bf0f41319321dd5d7d7e3c134a6302623e2802b0167c22e6d10"
 },
 "nbformat": 3,
 "nbformat_minor": 0,
 "worksheets": [
  {
   "cells": [
    {
     "cell_type": "markdown",
     "metadata": {},
     "source": [
      "This is the same stick breaking based mixture model found here: http://www.robots.ox.ac.uk/~fwood/anglican/examples/dp_mixture_model/index.html."
     ]
    },
    {
     "cell_type": "code",
     "collapsed": false,
     "input": [
      "using Stochy, Stochy.PyPlotSupport; import PyPlot"
     ],
     "language": "python",
     "metadata": {},
     "outputs": [
      {
       "output_type": "stream",
       "stream": "stderr",
       "text": [
        "INFO: Loading help data...\n"
       ]
      }
     ],
     "prompt_number": 1
    },
    {
     "cell_type": "markdown",
     "metadata": {},
     "source": [
      "The base distribution $H$ is a Normal-Gamma prior on the mean and variance of the observation distribution."
     ]
    },
    {
     "cell_type": "code",
     "collapsed": false,
     "input": [
      "@pp function H()\n",
      "    local var = 1. / ~Gamma(1, 0.1)\n",
      "    local mean = ~Normal(0, \u221a(10var))\n",
      "    tuple(mean, \u221avar)\n",
      "end"
     ],
     "language": "python",
     "metadata": {},
     "outputs": [
      {
       "metadata": {},
       "output_type": "pyout",
       "prompt_number": 2,
       "text": [
        "H (generic function with 1 method)"
       ]
      }
     ],
     "prompt_number": 2
    },
    {
     "cell_type": "code",
     "collapsed": false,
     "input": [
      "@pp repeat(H,10)"
     ],
     "language": "python",
     "metadata": {},
     "outputs": [
      {
       "metadata": {},
       "output_type": "pyout",
       "prompt_number": 3,
       "text": [
        "list((-13.010629950984848,3.3658996178312672), (-45.77174192030567,10.200900258898432), (15.659395597870311,5.997636239705596), (12.039330000234095,3.0488993843576835), (20.52601010262235,8.092445274356743), (-1.0594947705851219,2.0572991152389366), (3.418374191308808,4.3797571610579915), (-9.926381117382899,1.9772546235351978), (-3.8764835870871264,2.51166161352619), (-20.563800041458332,14.816846726072166))"
       ]
      }
     ],
     "prompt_number": 3
    },
    {
     "cell_type": "markdown",
     "metadata": {},
     "source": [
      "`params` is a draw from a Dirichlet process with base distribution $H$. (This is often denoted $G$.)"
     ]
    },
    {
     "cell_type": "code",
     "collapsed": false,
     "input": [
      "params = @pp DP(H, 1.72)"
     ],
     "language": "python",
     "metadata": {},
     "outputs": [
      {
       "metadata": {},
       "output_type": "pyout",
       "prompt_number": 4,
       "text": [
        "(anonymous function)"
       ]
      }
     ],
     "prompt_number": 4
    },
    {
     "cell_type": "markdown",
     "metadata": {},
     "source": [
      "Making several draws from `params` shows the stochastic memoization effect. Note the repetition of some tuples below."
     ]
    },
    {
     "cell_type": "code",
     "collapsed": false,
     "input": [
      "@pp repeat(params, 10)"
     ],
     "language": "python",
     "metadata": {},
     "outputs": [
      {
       "metadata": {},
       "output_type": "pyout",
       "prompt_number": 5,
       "text": [
        "list((5.6686350451007,2.3294003390617277), (-7.383761228396905,8.57419987206087), (-18.77023112874221,3.8742570516808015), (-7.383761228396905,8.57419987206087), (-0.12056623523626799,2.062902797324893), (-18.77023112874221,3.8742570516808015), (-18.77023112874221,3.8742570516808015), (-7.383761228396905,8.57419987206087), (-18.77023112874221,3.8742570516808015), (-0.5958554634702551,3.853224991821724))"
       ]
      }
     ],
     "prompt_number": 5
    },
    {
     "cell_type": "markdown",
     "metadata": {},
     "source": [
      "In the current implementation memoization is local to the calling `@pp` block. This means that the following is not equivilant to the cell above. Specifically, this performs one draw from each of 10 draws from the DP, whereas the code above makes 10 draws from a single DP."
     ]
    },
    {
     "cell_type": "code",
     "collapsed": false,
     "input": [
      "[@pp params() for _ in 1:10]"
     ],
     "language": "python",
     "metadata": {},
     "outputs": [
      {
       "metadata": {},
       "output_type": "pyout",
       "prompt_number": 6,
       "text": [
        "10-element Array{Any,1}:\n",
        " (-4.936177893943471,2.5089731258345296)  \n",
        " (-2.048910317484265,2.319143625811254)   \n",
        " (-2.152587850602797,2.883942547573667)   \n",
        " (4.249136700418106,2.437442669739073)    \n",
        " (2.3501738100010194,2.34833772122104)    \n",
        " (8.319155325659535,4.9268395907623574)   \n",
        " (4.234836918935765,2.588754181982078)    \n",
        " (-4.404888763185945,5.874247584713328)   \n",
        " (102.52081478675677,21.85262939132541)   \n",
        " (-0.28919498802963073,1.5104630196787532)"
       ]
      }
     ],
     "prompt_number": 6
    },
    {
     "cell_type": "code",
     "collapsed": false,
     "input": [
      "dist = @pp pmcmc(250,100) do\n",
      "    observe(Normal(params()...), 10)\n",
      "    observe(Normal(params()...), 11)\n",
      "    observe(Normal(params()...), 12)\n",
      "    observe(Normal(params()...), -100)\n",
      "    observe(Normal(params()...), -150)\n",
      "    observe(Normal(params()...), -200)\n",
      "    observe(Normal(params()...), 0.001)\n",
      "    observe(Normal(params()...), 0.01)\n",
      "    observe(Normal(params()...), 0.005)\n",
      "    observe(Normal(params()...), 0)\n",
      "    # Posterior predictive.\n",
      "    ~Normal(params()...)\n",
      "end;"
     ],
     "language": "python",
     "metadata": {},
     "outputs": [],
     "prompt_number": 7
    },
    {
     "cell_type": "code",
     "collapsed": false,
     "input": [
      "histogram(dist, bins=300, range=(-300,100), histtype=\"stepfilled\");"
     ],
     "language": "python",
     "metadata": {},
     "outputs": [
      {
       "metadata": {},
       "output_type": "display_data",
       "png": "[encoded data removed]",
       "text": [
        "Figure(PyObject <matplotlib.figure.Figure object at 0x11140e050>)"
       ]
      }
     ],
     "prompt_number": 12
    },
    {
     "cell_type": "code",
     "collapsed": false,
     "input": [],
     "language": "python",
     "metadata": {},
     "outputs": []
    }
   ],
   "metadata": {}
  }
 ]
}