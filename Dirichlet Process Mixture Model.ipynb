{
 "metadata": {
  "language": "Julia",
  "name": "",
  "signature": "sha256:9da596db007ce656129f0f5810b8b6fb8cfbf64bafd390213e35fddf6b13385f"
 },
 "nbformat": 3,
 "nbformat_minor": 0,
 "worksheets": [
  {
   "cells": [
    {
     "cell_type": "markdown",
     "metadata": {},
     "source": [
      "This is the same stick breaking based mixture model found here: http://www.robots.ox.ac.uk/~fwood/anglican/examples/dp_mixture_model/index.html."
     ]
    },
    {
     "cell_type": "code",
     "collapsed": false,
     "input": [
      "using Stochy, Gadfly, Stochy.PyPlotSupport"
     ],
     "language": "python",
     "metadata": {},
     "outputs": [],
     "prompt_number": 1
    },
    {
     "cell_type": "code",
     "collapsed": false,
     "input": [
      "import PyPlot"
     ],
     "language": "python",
     "metadata": {},
     "outputs": [
      {
       "output_type": "stream",
       "stream": "stderr",
       "text": [
        "INFO: Loading help data...\n"
       ]
      }
     ],
     "prompt_number": 2
    },
    {
     "cell_type": "markdown",
     "metadata": {},
     "source": [
      "The base distribution $H$ is a Normal-Gamma prior on the mean and variance of observation distribution."
     ]
    },
    {
     "cell_type": "code",
     "collapsed": false,
     "input": [
      "@pp function H()\n",
      "    local var = 1. / ~Gamma(1, 10)\n",
      "    local mean = ~Normal(0, 10var)\n",
      "    tuple(mean, var)\n",
      "end"
     ],
     "language": "python",
     "metadata": {},
     "outputs": [
      {
       "metadata": {},
       "output_type": "pyout",
       "prompt_number": 19,
       "text": [
        "H (generic function with 1 method)"
       ]
      }
     ],
     "prompt_number": 19
    },
    {
     "cell_type": "code",
     "collapsed": false,
     "input": [
      "@pp repeat(H,10)"
     ],
     "language": "python",
     "metadata": {},
     "outputs": [
      {
       "metadata": {},
       "output_type": "pyout",
       "prompt_number": 20,
       "text": [
        "list((2.4177230764233393,2.7500097492433593), (14.192043397896185,44.56983165590909), (-6.675714755679261,3.5908137499261716), (-29.55820248838588,211.14939985248273), (-36.26147749121953,121.37285527840325), (-4.753853795687781,7.260443319061009), (-8.588584766195005,12.72095804792225), (2.346094092923339,41.58467150748042), (-9.192637611721771,2.8171187012200347), (-24.004920267636535,24.717923291823276))"
       ]
      }
     ],
     "prompt_number": 20
    },
    {
     "cell_type": "markdown",
     "metadata": {},
     "source": [
      "`params` is a draw from a Dirichlet process with base distribution $H$. (This is often denoted $G$.)"
     ]
    },
    {
     "cell_type": "code",
     "collapsed": false,
     "input": [
      "params = @pp DP(H, 1.72)"
     ],
     "language": "python",
     "metadata": {},
     "outputs": [
      {
       "metadata": {},
       "output_type": "pyout",
       "prompt_number": 21,
       "text": [
        "(anonymous function)"
       ]
      }
     ],
     "prompt_number": 21
    },
    {
     "cell_type": "markdown",
     "metadata": {},
     "source": [
      "Making several draws from `params` shows the stochastic memoization effect. Note the repetition of some tuples below."
     ]
    },
    {
     "cell_type": "code",
     "collapsed": false,
     "input": [
      "@pp repeat(params, 10)"
     ],
     "language": "python",
     "metadata": {},
     "outputs": [
      {
       "metadata": {},
       "output_type": "pyout",
       "prompt_number": 22,
       "text": [
        "list((-1.8616788147143284,10.227823016680887), (2.4179102426871886,3.1496042736764527), (-1.8616788147143284,10.227823016680887), (-5.0779675582388855,2.804126292652782), (-5.0779675582388855,2.804126292652782), (2.4179102426871886,3.1496042736764527), (-35.65273701810027,75.50088856560791), (-35.65273701810027,75.50088856560791), (-20.670992720917948,39.554438406826506), (2.4179102426871886,3.1496042736764527))"
       ]
      }
     ],
     "prompt_number": 22
    },
    {
     "cell_type": "markdown",
     "metadata": {},
     "source": [
      "In the current implementation memoization is local to the calling `@pp` block. This means that the following is not equivilant to the cell above. Specifically, this performs one draw from each of 10 draws from the DP, whereas the code above makes 10 draws from a single DP."
     ]
    },
    {
     "cell_type": "code",
     "collapsed": false,
     "input": [
      "[@pp params() for _ in 1:10]"
     ],
     "language": "python",
     "metadata": {},
     "outputs": [
      {
       "metadata": {},
       "output_type": "pyout",
       "prompt_number": 23,
       "text": [
        "10-element Array{Any,1}:\n",
        " (-1.9185254136097898,3.089477383802314)\n",
        " (27.217832736908036,25.436533229752943)\n",
        " (-28.92168865897584,1337.0951379907963)\n",
        " (1.2780593004915524,28.49287632279332) \n",
        " (11.576172346311639,14.684298757417327)\n",
        " (2.786097115913602,11.111745072976104) \n",
        " (-8.009619920170444,30.749703220032465)\n",
        " (1.8733327364752426,19.144439022716504)\n",
        " (8.278745057042231,46.70957528617492)  \n",
        " (9.831894782804092,6.34809522504671)   "
       ]
      }
     ],
     "prompt_number": 23
    },
    {
     "cell_type": "code",
     "collapsed": false,
     "input": [
      "dist = @pp pmcmc(250,100) do\n",
      "    observe(Normal(params()...), 10)\n",
      "    observe(Normal(params()...), 11)\n",
      "    observe(Normal(params()...), 12)\n",
      "    observe(Normal(params()...), -100)\n",
      "    observe(Normal(params()...), -150)\n",
      "    observe(Normal(params()...), -200)\n",
      "    observe(Normal(params()...), 0.001)\n",
      "    observe(Normal(params()...), 0.01)\n",
      "    observe(Normal(params()...), 0.005)\n",
      "    observe(Normal(params()...), 0)\n",
      "    # Posterior predictive.\n",
      "    ~Normal(params()...)\n",
      "end;"
     ],
     "language": "python",
     "metadata": {},
     "outputs": [],
     "prompt_number": 38
    },
    {
     "cell_type": "code",
     "collapsed": false,
     "input": [
      "histogram(dist, bins=350, range=(-250,100), histtype=\"stepfilled\");"
     ],
     "language": "python",
     "metadata": {},
     "outputs": [
      {
       "metadata": {},
       "output_type": "display_data",
       "png": "[encoded data removed]",
       "text": [
        "Figure(PyObject <matplotlib.figure.Figure object at 0x11c4b1a90>)"
       ]
      }
     ],
     "prompt_number": 39
    },
    {
     "cell_type": "code",
     "collapsed": false,
     "input": [],
     "language": "python",
     "metadata": {},
     "outputs": []
    }
   ],
   "metadata": {}
  }
 ]
}